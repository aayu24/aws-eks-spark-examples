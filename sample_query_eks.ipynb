{
 "cells": [
  {
   "cell_type": "code",
   "execution_count": 1,
   "id": "07798950-4b87-4bbd-a89f-57bf8173e294",
   "metadata": {},
   "outputs": [],
   "source": [
    "import pyspark,os,socket"
   ]
  },
  {
   "cell_type": "code",
   "execution_count": 2,
   "id": "128f91ac-0809-455b-99a2-23be10d128fb",
   "metadata": {},
   "outputs": [],
   "source": [
    "k8s_master = 'k8s://https://0B5513313A4AE2DBB9C7BC6E03F940B9.gr7.us-east-2.eks.amazonaws.com'\n",
    "exampleJars = [\n",
    "    \"org.apache.iceberg:iceberg-spark-runtime-3.5_2.12:1.7.0\",\n",
    "    \"org.apache.hadoop:hadoop-aws:3.3.4\",\n",
    "    \"com.amazonaws:aws-java-sdk-bundle:1.12.262\"\n",
    "]"
   ]
  },
  {
   "cell_type": "code",
   "execution_count": 3,
   "id": "34b32d7b-b3de-4be5-a4a5-bf3498a216e1",
   "metadata": {},
   "outputs": [],
   "source": [
    "props = {\n",
    "    \"warehouse_path\": \"s3a://granica-demo-spark-warehouse\",\n",
    "    \"catalog_name\": \"demo\",\n",
    "    \"catalog_type\": \"hadoop\",\n",
    "    \"iceberg_spark_jar\": \"org.apache.iceberg:iceberg-spark-runtime-3.5_2.12:1.7.0\",\n",
    "    \"table_name\": \"logs\",\n",
    "    \"input_path\": \"really_large_access.log\",\n",
    "    \"mode\": \"local\",\n",
    "    \"output_dir\": \"output\"\n",
    "}"
   ]
  },
  {
   "cell_type": "code",
   "execution_count": 4,
   "id": "7ca9ac2f-1543-4d88-9998-3d97e10d4a39",
   "metadata": {},
   "outputs": [
    {
     "name": "stdout",
     "output_type": "stream",
     "text": [
      ":: loading settings :: url = jar:file:/opt/spark/jars/ivy-2.5.1.jar!/org/apache/ivy/core/settings/ivysettings.xml\n"
     ]
    },
    {
     "name": "stderr",
     "output_type": "stream",
     "text": [
      "Ivy Default Cache set to: /root/.ivy2/cache\n",
      "The jars for the packages stored in: /root/.ivy2/jars\n",
      "org.apache.iceberg#iceberg-spark-runtime-3.5_2.12 added as a dependency\n",
      "org.apache.hadoop#hadoop-aws added as a dependency\n",
      "com.amazonaws#aws-java-sdk-bundle added as a dependency\n",
      ":: resolving dependencies :: org.apache.spark#spark-submit-parent-a12ed83b-0edb-4989-a639-e8f17b322b54;1.0\n",
      "\tconfs: [default]\n",
      "\tfound org.apache.iceberg#iceberg-spark-runtime-3.5_2.12;1.7.0 in central\n",
      "\tfound org.apache.hadoop#hadoop-aws;3.3.4 in central\n",
      "\tfound com.amazonaws#aws-java-sdk-bundle;1.12.262 in central\n",
      "\tfound org.wildfly.openssl#wildfly-openssl;1.0.7.Final in central\n",
      "downloading https://repo1.maven.org/maven2/org/apache/iceberg/iceberg-spark-runtime-3.5_2.12/1.7.0/iceberg-spark-runtime-3.5_2.12-1.7.0.jar ...\n",
      "\t[SUCCESSFUL ] org.apache.iceberg#iceberg-spark-runtime-3.5_2.12;1.7.0!iceberg-spark-runtime-3.5_2.12.jar (1045ms)\n",
      "downloading https://repo1.maven.org/maven2/org/apache/hadoop/hadoop-aws/3.3.4/hadoop-aws-3.3.4.jar ...\n",
      "\t[SUCCESSFUL ] org.apache.hadoop#hadoop-aws;3.3.4!hadoop-aws.jar (47ms)\n",
      "downloading https://repo1.maven.org/maven2/com/amazonaws/aws-java-sdk-bundle/1.12.262/aws-java-sdk-bundle-1.12.262.jar ...\n",
      "\t[SUCCESSFUL ] com.amazonaws#aws-java-sdk-bundle;1.12.262!aws-java-sdk-bundle.jar (2718ms)\n",
      "downloading https://repo1.maven.org/maven2/org/wildfly/openssl/wildfly-openssl/1.0.7.Final/wildfly-openssl-1.0.7.Final.jar ...\n",
      "\t[SUCCESSFUL ] org.wildfly.openssl#wildfly-openssl;1.0.7.Final!wildfly-openssl.jar (30ms)\n",
      ":: resolution report :: resolve 2276ms :: artifacts dl 3855ms\n",
      "\t:: modules in use:\n",
      "\tcom.amazonaws#aws-java-sdk-bundle;1.12.262 from central in [default]\n",
      "\torg.apache.hadoop#hadoop-aws;3.3.4 from central in [default]\n",
      "\torg.apache.iceberg#iceberg-spark-runtime-3.5_2.12;1.7.0 from central in [default]\n",
      "\torg.wildfly.openssl#wildfly-openssl;1.0.7.Final from central in [default]\n",
      "\t---------------------------------------------------------------------\n",
      "\t|                  |            modules            ||   artifacts   |\n",
      "\t|       conf       | number| search|dwnlded|evicted|| number|dwnlded|\n",
      "\t---------------------------------------------------------------------\n",
      "\t|      default     |   4   |   4   |   4   |   0   ||   4   |   4   |\n",
      "\t---------------------------------------------------------------------\n",
      ":: retrieving :: org.apache.spark#spark-submit-parent-a12ed83b-0edb-4989-a639-e8f17b322b54\n",
      "\tconfs: [default]\n",
      "\t4 artifacts copied, 0 already retrieved (317214kB/221ms)\n",
      "24/12/03 05:51:22 WARN NativeCodeLoader: Unable to load native-hadoop library for your platform... using builtin-java classes where applicable\n",
      "Setting default log level to \"WARN\".\n",
      "To adjust logging level use sc.setLogLevel(newLevel). For SparkR, use setLogLevel(newLevel).\n"
     ]
    }
   ],
   "source": [
    "builder = (\n",
    "    pyspark.sql.SparkSession.builder.appName(\"Myapp\")\n",
    "    # Sets the Spark master/captain URL to connect too.\n",
    "    .master(k8s_master)\n",
    "    # JARs on disk to load into our Spark session\n",
    "    .config(\"spark.jars.packages\", \",\".join(exampleJars))\n",
    "    .config(\"spark.kubernetes.container.image\", \"public.ecr.aws/b1m7t7i1/pyspark-granica-demo:v1\")\n",
    "    .config(\"spark.kubernetes.authenticate.driver.serviceAccountName\", \"spark\")\n",
    "    .config(\"spark.kubernetes.authenticate.serviceAccountName\", \"spark\")\n",
    "    .config(\"spark.executor.instances\", \"1\")\n",
    "    .config(\"spark.kubernetes.container.image.pullPolicy\", \"IfNotPresent\")\n",
    "    # k8s service for Jupyter driver\n",
    "    .config(\"spark.driver.host\", socket.gethostbyname(socket.gethostname()))\n",
    "    # Port for Jupyter driver\n",
    "    .config(\"spark.driver.port\", 2222)\n",
    "    # Extending the capabilities of SQL searching with Iceberg tables\n",
    "    .config(\"spark.sql.extensions\", \"org.apache.iceberg.spark.extensions.IcebergSparkSessionExtensions\")\n",
    "    .config(f\"spark.sql.catalog.{props['catalog_name']}\", \"org.apache.iceberg.spark.SparkCatalog\")\n",
    "    .config(f\"spark.sql.catalog.{props['catalog_name']}.warehouse\", props['warehouse_path'])\n",
    "    .config(f\"spark.sql.catalog.{props['catalog_name']}.type\", props['catalog_type'])\n",
    "    .config(\"spark.sql.warehouse.dir\", props['warehouse_path'])\n",
    "    # .config(\"spark.sql.catalog.spark_catalog\", \"org.apache.spark.sql.delta.catalog.DeltaCatalog\")\n",
    "    # .config(\"spark.hadoop.fs.s3a.aws.credentials.provider\", 'org.apache.hadoop.fs.s3a.SimpleAWSCredentialsProvider')\n",
    "    ####### AWS setup and creds #######\n",
    "    # .config(\"spark.hadoop.fs.s3a.access.key\", \"\")\n",
    "    # .config(\"spark.hadoop.fs.s3a.secret.key\", \"analyst123\")\n",
    "    .config(\"spark.hadoop.fs.s3a.endpoint\", \"s3.us-east-2.amazonaws.com\")\n",
    "    .config(\"spark.hadoop.fs.s3a.connection.ssl.enabled\", \"false\")\n",
    "    .config(\"spark.hadoop.fs.s3a.impl\",\"org.apache.hadoop.fs.s3a.S3AFileSystem\")\n",
    "    .config(\"spark.hadoop.fs.s3a.path.style.access\", \"true\")\n",
    "    .config(\"spark.hadoop.fs.s3a.attempts.maximum\", \"1\")\n",
    "    .config(\"spark.hadoop.fs.s3a.connection.establish.timeout\", \"5000\")\n",
    "    .config(\"spark.hadoop.fs.s3a.connection.timeout\", \"10000\")\n",
    ")\n",
    "spark = builder.getOrCreate()"
   ]
  },
  {
   "cell_type": "code",
   "execution_count": 5,
   "id": "6e2add61-dc7f-4c18-9c14-ca5c5b6d80c2",
   "metadata": {},
   "outputs": [
    {
     "name": "stderr",
     "output_type": "stream",
     "text": [
      "24/12/03 05:51:37 WARN MetricsConfig: Cannot locate configuration: tried hadoop-metrics2-s3a-file-system.properties,hadoop-metrics2.properties\n"
     ]
    },
    {
     "data": {
      "text/html": [
       "\n",
       "            <div>\n",
       "                <p><b>SparkSession - in-memory</b></p>\n",
       "                \n",
       "        <div>\n",
       "            <p><b>SparkContext</b></p>\n",
       "\n",
       "            <p><a href=\"http://10.123.3.220:4040\">Spark UI</a></p>\n",
       "\n",
       "            <dl>\n",
       "              <dt>Version</dt>\n",
       "                <dd><code>v3.5.3</code></dd>\n",
       "              <dt>Master</dt>\n",
       "                <dd><code>k8s://https://0B5513313A4AE2DBB9C7BC6E03F940B9.gr7.us-east-2.eks.amazonaws.com</code></dd>\n",
       "              <dt>AppName</dt>\n",
       "                <dd><code>Myapp</code></dd>\n",
       "            </dl>\n",
       "        </div>\n",
       "        \n",
       "            </div>\n",
       "        "
      ],
      "text/plain": [
       "<pyspark.sql.session.SparkSession at 0x7f15d7f163a0>"
      ]
     },
     "execution_count": 5,
     "metadata": {},
     "output_type": "execute_result"
    }
   ],
   "source": [
    "spark"
   ]
  },
  {
   "cell_type": "code",
   "execution_count": 7,
   "id": "b08000ec-3722-4c09-8258-a647e479aba8",
   "metadata": {},
   "outputs": [],
   "source": [
    "db_name=props['catalog_name']\n",
    "table_name=props['table_name']\n",
    "top5_ips_query = f\"\"\"with day_ip_cnt as (\n",
    "    select date,ip,count(1) as hits\n",
    "    from {db_name}.{table_name}\n",
    "    group by date,ip\n",
    "),\n",
    "ranked_day_ip_cnt as (\n",
    "    select date,ip,hits,\n",
    "    row_number() over (partition by date order by hits desc) as rn\n",
    "    from day_ip_cnt\n",
    ")\n",
    "select date,ip,hits from ranked_day_ip_cnt\n",
    "where rn<=5\n",
    "order by date desc,hits desc\"\"\""
   ]
  },
  {
   "cell_type": "code",
   "execution_count": 8,
   "id": "4b1ad83d-be5f-44af-b117-1186d3f604a6",
   "metadata": {},
   "outputs": [],
   "source": [
    "df = spark.sql(top5_ips_query)"
   ]
  },
  {
   "cell_type": "code",
   "execution_count": 9,
   "id": "ba6ca8a6-8b8d-463b-8e47-784838a3d1dd",
   "metadata": {},
   "outputs": [
    {
     "name": "stderr",
     "output_type": "stream",
     "text": [
      "                                                                                \r"
     ]
    },
    {
     "name": "stdout",
     "output_type": "stream",
     "text": [
      "+--------+--------------+----+\n",
      "|    date|            ip|hits|\n",
      "+--------+--------------+----+\n",
      "|20211231| 63.143.42.249| 147|\n",
      "|20211231| 63.143.42.247| 147|\n",
      "|20211231|    77.88.5.51|  82|\n",
      "|20211231|213.180.203.97|  76|\n",
      "|20211231| 5.164.166.184|  75|\n",
      "|20211230| 63.143.42.249| 288|\n",
      "|20211230| 63.143.42.247| 288|\n",
      "|20211230|    77.88.5.51| 120|\n",
      "|20211230|  91.219.193.2|  88|\n",
      "|20211230|83.220.239.204|  84|\n",
      "+--------+--------------+----+\n",
      "only showing top 10 rows\n",
      "\n"
     ]
    }
   ],
   "source": [
    "df.show(10)"
   ]
  },
  {
   "cell_type": "code",
   "execution_count": null,
   "id": "f6696c20-3c7a-4052-a1e2-689cc7f6e56c",
   "metadata": {},
   "outputs": [],
   "source": []
  }
 ],
 "metadata": {
  "kernelspec": {
   "display_name": "Python 3 (ipykernel)",
   "language": "python",
   "name": "python3"
  },
  "language_info": {
   "codemirror_mode": {
    "name": "ipython",
    "version": 3
   },
   "file_extension": ".py",
   "mimetype": "text/x-python",
   "name": "python",
   "nbconvert_exporter": "python",
   "pygments_lexer": "ipython3",
   "version": "3.8.10"
  }
 },
 "nbformat": 4,
 "nbformat_minor": 5
}
